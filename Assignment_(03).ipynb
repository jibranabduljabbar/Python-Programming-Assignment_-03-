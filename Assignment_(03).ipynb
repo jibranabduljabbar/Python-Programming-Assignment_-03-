{
 "cells": [
  {
   "cell_type": "code",
   "execution_count": 5,
   "id": "3884aaa8",
   "metadata": {},
   "outputs": [
    {
     "name": "stdout",
     "output_type": "stream",
     "text": [
      "Twinkle, twinkle, little star,\n",
      "         How I wonder what you are!\n",
      "                 Up above the world so high,\n",
      "                 Like a diamond in the sky.\n",
      "Twinkle, twinkle, little star,\n",
      "         How I wonder what you are \n",
      "\n",
      "\n",
      "\n",
      "\n",
      "\n",
      "Twinkle, twinkle, little star, \n",
      "         How I wonder what you are! \n",
      "                 Up above the world so high, \n",
      "                 Like a diamond in the sky. \n",
      "Twinkle, twinkle, little star, \n",
      "         How I wonder what you are\n"
     ]
    }
   ],
   "source": [
    "# Task: 01\n",
    "\n",
    "# First Option:\n",
    "\n",
    "print(\"Twinkle, twinkle, little star,\");\n",
    "print(\"         How I wonder what you are!\");\n",
    "print(\"                 Up above the world so high,\");\n",
    "print(\"                 Like a diamond in the sky.\");\n",
    "print(\"Twinkle, twinkle, little star,\");\n",
    "print(\"         How I wonder what you are\");\n",
    "\n",
    "# This Line Is WOrk The Line Break:\n",
    "\n",
    "print(\"\\n\\n\\n\\n\\n\");\n",
    "\n",
    "# Second Option:\n",
    "\n",
    "print(\"Twinkle, twinkle, little star, \\n         How I wonder what you are! \\n                 Up above the world so high, \\n                 Like a diamond in the sky. \\nTwinkle, twinkle, little star, \\n         How I wonder what you are\");"
   ]
  },
  {
   "cell_type": "code",
   "execution_count": 22,
   "id": "9118a410",
   "metadata": {},
   "outputs": [
    {
     "name": "stdout",
     "output_type": "stream",
     "text": [
      "Current Python Version : 3.8.8\n"
     ]
    }
   ],
   "source": [
    "# Task: 02\n",
    "\n",
    "from platform import python_version;\n",
    "\n",
    "print(\"Current Python Version : \" + python_version());"
   ]
  },
  {
   "cell_type": "code",
   "execution_count": 23,
   "id": "153d905d",
   "metadata": {},
   "outputs": [
    {
     "name": "stdout",
     "output_type": "stream",
     "text": [
      "Current date and time : \n",
      "2021-10-24 00:20:38\n"
     ]
    }
   ],
   "source": [
    "# Task: 03\n",
    "\n",
    "import datetime;\n",
    "now = datetime.datetime.now();\n",
    "print (\"Current date and time : \");\n",
    "print (now.strftime(\"%Y-%m-%d %H:%M:%S\"));"
   ]
  },
  {
   "cell_type": "code",
   "execution_count": 24,
   "id": "b15e4011",
   "metadata": {},
   "outputs": [
    {
     "name": "stdout",
     "output_type": "stream",
     "text": [
      "Input the radius of the circle : 56456476\n",
      "The area of the circle with radius 56456476.0 is: 1.0013304080974174e+16\n"
     ]
    }
   ],
   "source": [
    "# Task: 04\n",
    "\n",
    "from math import pi;\n",
    "r = float(input (\"Input the radius of the circle : \"));\n",
    "print (\"The area of the circle with radius \" + str(r) + \" is: \" + str(pi * r**2));"
   ]
  },
  {
   "cell_type": "code",
   "execution_count": null,
   "id": "735b8a86",
   "metadata": {},
   "outputs": [],
   "source": [
    "# Task: 05\n",
    "\n",
    "first_name = input(\"Enter Your First Name: \");\n",
    "last_name = input(\"Enter Your Last Name: \");\n",
    "full_name = last_name + \" \" + first_name; \n",
    "\n",
    "print(\"Full Name: \" + full_name);"
   ]
  },
  {
   "cell_type": "code",
   "execution_count": 6,
   "id": "4dbbb6f9",
   "metadata": {},
   "outputs": [
    {
     "name": "stdout",
     "output_type": "stream",
     "text": [
      "Enter Your First Value: Jibran\n",
      "Enter Your Last Value: Abdul Jabbar\n",
      "Full Value: Jibran Abdul Jabbar\n"
     ]
    }
   ],
   "source": [
    "# Task: 06\n",
    "\n",
    "first_Val = input(\"Enter Your First Value: \");\n",
    "last_Val = input(\"Enter Your Last Value: \");\n",
    "full_Val = first_Val + \" \" + last_Val;\n",
    "print(\"Full Value: \" + full_Val);"
   ]
  },
  {
   "cell_type": "code",
   "execution_count": 9,
   "id": "3a8d2f0f",
   "metadata": {},
   "outputs": [
    {
     "name": "stdout",
     "output_type": "stream",
     "text": [
      "Enter Your Mathematics Marks: 100\n",
      "Enter Your English Marks: 100\n",
      "Enter Your Physics Marks: 100\n",
      "Enter Your Chemistry Marks: 100\n",
      "Enter Your Computer Marks: 100\n",
      "\n",
      "Total Marks: 500\n",
      "Obtained Marks: 500\n",
      "Grade: A+\n",
      "Percentage: 100.0%\n"
     ]
    }
   ],
   "source": [
    "# Task: 07\n",
    "\n",
    "math = int(input(\"Enter Your Mathematics Marks: \"));\n",
    "english = int(input(\"Enter Your English Marks: \"));\n",
    "physics = int(input(\"Enter Your Physics Marks: \"));\n",
    "chemistry = int(input(\"Enter Your Chemistry Marks: \"));\n",
    "computer = int(input(\"Enter Your Computer Marks: \"));\n",
    "\n",
    "obtained = math + english + physics + chemistry + computer;\n",
    "total = 500;\n",
    "grade = \"\"\n",
    "percentage = obtained / total * 100;\n",
    "\n",
    "if(percentage >= 80 and percentage <= 100):\n",
    "    grade = \"A+\";\n",
    "elif(percentage >= 70 and percentage < 80):\n",
    "    grade = \"A\";\n",
    "elif(percentage >= 60 and percentage < 70):\n",
    "    grade = \"B\";\n",
    "elif(percentage >= 50 and percentage < 60):\n",
    "    grade = \"C\";\n",
    "elif(percentage >= 40 and percentage < 50):\n",
    "    grade = \"D\";\n",
    "elif(percentage >= 33 and percentage < 40):\n",
    "    grade = \"E\";\n",
    "else:\n",
    "    grade = \"F\";\n",
    "\n",
    "print(\"\\n\" + \"Total Marks: \" + str(total) + \"\\n\" + \"Obtained Marks: \" + str(int(obtained)) + \"\\n\" + \"Grade: \" + str(grade) + \"\\n\" + \"Percentage: \" + str(percentage) + \"%\");"
   ]
  },
  {
   "cell_type": "code",
   "execution_count": 1,
   "id": "75573d22",
   "metadata": {},
   "outputs": [
    {
     "name": "stdout",
     "output_type": "stream",
     "text": [
      "Enter Your Number: 5\n",
      "5 Is Odd Number.\n"
     ]
    }
   ],
   "source": [
    "# Task: 08\n",
    "\n",
    "user_val = int(input(\"Enter Your Number: \"));\n",
    "identify = user_val % 2; \n",
    "if identify > 0: \n",
    "    print(str(user_val) + \" Is Odd Number.\");\n",
    "else: \n",
    "    print(str(user_val) + \" Is Even Number.\");"
   ]
  },
  {
   "cell_type": "code",
   "execution_count": 8,
   "id": "c13d8787",
   "metadata": {},
   "outputs": [
    {
     "name": "stdout",
     "output_type": "stream",
     "text": [
      "List Length Is: 11\n"
     ]
    }
   ],
   "source": [
    "# Task: 09\n",
    "\n",
    "lst = [1, 1, 2, 3, 5, 8, 13, 21, 34, 55, 89];\n",
    "print(\"List Length Is: \" + str(len(lst)));"
   ]
  },
  {
   "cell_type": "code",
   "execution_count": 6,
   "id": "98a23a2c",
   "metadata": {},
   "outputs": [
    {
     "name": "stdout",
     "output_type": "stream",
     "text": [
      "Sum Is: 232\n"
     ]
    }
   ],
   "source": [
    "lst = [1, 1, 2, 3, 5, 8, 13, 21, 34, 55, 89];\n",
    "print(\"Sum Is: \" + str(sum(lst)));"
   ]
  },
  {
   "cell_type": "code",
   "execution_count": 10,
   "id": "18e3888b",
   "metadata": {},
   "outputs": [
    {
     "name": "stdout",
     "output_type": "stream",
     "text": [
      "Largest element present in given array: 89\n"
     ]
    }
   ],
   "source": [
    "# Task: 11\n",
    "\n",
    "lst = [1, 1, 2, 3, 5, 8, 13, 21, 34, 55, 89];\n",
    "\n",
    "max = lst[0];    \n",
    "     \n",
    "for i in range(0, len(lst)):    \n",
    "    if(lst[i] > max):    \n",
    "        max = lst[i];    \n",
    "           \n",
    "print(\"Largest element present in given array: \" + str(max));   "
   ]
  },
  {
   "cell_type": "code",
   "execution_count": 17,
   "id": "018d464c",
   "metadata": {},
   "outputs": [
    {
     "name": "stdout",
     "output_type": "stream",
     "text": [
      "Less Then 5: 1\n",
      "Less Then 5: 1\n",
      "Less Then 5: 2\n",
      "Less Then 5: 3\n"
     ]
    }
   ],
   "source": [
    "# Task: 12\n",
    "\n",
    "lst = [1, 1, 2, 3, 5, 8, 13, 21, 34, 55, 89];\n",
    "for less_num in lst:\n",
    "    if less_num < 5:\n",
    "        print(\"Less Then 5: \" + str(lst[less_num]));"
   ]
  }
 ],
 "metadata": {
  "kernelspec": {
   "display_name": "Python 3",
   "language": "python",
   "name": "python3"
  },
  "language_info": {
   "codemirror_mode": {
    "name": "ipython",
    "version": 3
   },
   "file_extension": ".py",
   "mimetype": "text/x-python",
   "name": "python",
   "nbconvert_exporter": "python",
   "pygments_lexer": "ipython3",
   "version": "3.8.8"
  }
 },
 "nbformat": 4,
 "nbformat_minor": 5
}
